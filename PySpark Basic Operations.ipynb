{
 "cells": [
  {
   "cell_type": "code",
   "execution_count": 0,
   "metadata": {
    "application/vnd.databricks.v1+cell": {
     "cellMetadata": {
      "byteLimit": 2048000,
      "rowLimit": 10000
     },
     "inputWidgets": {},
     "nuid": "4e9aeed0-bc50-4e14-b847-63305cc98c88",
     "showTitle": false,
     "tableResultSettingsMap": {},
     "title": ""
    }
   },
   "outputs": [],
   "source": [
    "from pyspark.sql import SparkSession\n",
    "from pyspark.sql.functions import col, avg, count, desc\n",
    "from pyspark.sql.types import StructType, StructField, StringType, IntegerType, DoubleType"
   ]
  },
  {
   "cell_type": "code",
   "execution_count": 0,
   "metadata": {
    "application/vnd.databricks.v1+cell": {
     "cellMetadata": {
      "byteLimit": 2048000,
      "rowLimit": 10000
     },
     "inputWidgets": {},
     "nuid": "304b19ac-b975-43fe-a7db-3ec27fd60edf",
     "showTitle": false,
     "tableResultSettingsMap": {},
     "title": ""
    }
   },
   "outputs": [],
   "source": [
    "spark = SparkSession.builder \\\n",
    "    .appName(\"PySpark Introduction\") \\\n",
    "    .getOrCreate()"
   ]
  },
  {
   "cell_type": "code",
   "execution_count": 0,
   "metadata": {
    "application/vnd.databricks.v1+cell": {
     "cellMetadata": {
      "byteLimit": 2048000,
      "rowLimit": 10000
     },
     "inputWidgets": {},
     "nuid": "9b555c50-9090-495b-ac52-f037264e1d41",
     "showTitle": false,
     "tableResultSettingsMap": {},
     "title": ""
    }
   },
   "outputs": [],
   "source": [
    "schema = StructType([\n",
    "    StructField(\"id\", IntegerType(), False),\n",
    "    StructField(\"nome\", StringType(), False),\n",
    "    StructField(\"idade\", IntegerType(), True),\n",
    "    StructField(\"salario\", DoubleType(), True),\n",
    "])\n",
    "\n",
    "dados = [\n",
    "    (1, \"João\", 30, 5000.0),\n",
    "    (2, \"Maria\", 28, 6200.0),\n",
    "    (3, \"Pedro\", 35, 7100.0),\n",
    "    (4, \"Ana\", 40, 8800.0),\n",
    "    (5, \"Lucas\", 25, 4500.0),\n",
    "    (6, \"Carla\", 32, 5400.0),\n",
    "    (7, \"Bruno\", 29, 4900.0),\n",
    "    (8, \"Fernanda\", 37, 7600.0),\n",
    "    (9, \"Tiago\", 41, 8200.0),\n",
    "    (10, \"Juliana\", 27, 5100.0)\n",
    "]\n",
    "\n",
    "df = spark.createDataFrame(dados, schema)"
   ]
  },
  {
   "cell_type": "code",
   "execution_count": 0,
   "metadata": {
    "application/vnd.databricks.v1+cell": {
     "cellMetadata": {
      "byteLimit": 2048000,
      "rowLimit": 10000
     },
     "inputWidgets": {},
     "nuid": "6e05a56b-d813-4129-8f7f-11da13e4b634",
     "showTitle": false,
     "tableResultSettingsMap": {},
     "title": ""
    }
   },
   "outputs": [
    {
     "output_type": "stream",
     "name": "stdout",
     "output_type": "stream",
     "text": [
      "+---+--------+-----+-------+\n| id|    nome|idade|salario|\n+---+--------+-----+-------+\n|  1|    João|   30| 5000.0|\n|  2|   Maria|   28| 6200.0|\n|  3|   Pedro|   35| 7100.0|\n|  4|     Ana|   40| 8800.0|\n|  5|   Lucas|   25| 4500.0|\n|  6|   Carla|   32| 5400.0|\n|  7|   Bruno|   29| 4900.0|\n|  8|Fernanda|   37| 7600.0|\n|  9|   Tiago|   41| 8200.0|\n| 10| Juliana|   27| 5100.0|\n+---+--------+-----+-------+\n\n"
     ]
    }
   ],
   "source": [
    "df.show()"
   ]
  },
  {
   "cell_type": "code",
   "execution_count": 0,
   "metadata": {
    "application/vnd.databricks.v1+cell": {
     "cellMetadata": {
      "byteLimit": 2048000,
      "rowLimit": 10000
     },
     "inputWidgets": {},
     "nuid": "ebd73c6d-41ed-48bf-a11c-a72473ea2b6d",
     "showTitle": false,
     "tableResultSettingsMap": {},
     "title": ""
    }
   },
   "outputs": [
    {
     "output_type": "stream",
     "name": "stdout",
     "output_type": "stream",
     "text": [
      "root\n |-- id: integer (nullable = false)\n |-- nome: string (nullable = false)\n |-- idade: integer (nullable = true)\n |-- salario: double (nullable = true)\n\n"
     ]
    }
   ],
   "source": [
    "df.printSchema()"
   ]
  },
  {
   "cell_type": "code",
   "execution_count": 0,
   "metadata": {
    "application/vnd.databricks.v1+cell": {
     "cellMetadata": {
      "byteLimit": 2048000,
      "rowLimit": 10000
     },
     "inputWidgets": {},
     "nuid": "c1d4517b-e091-4d0f-ae0c-a8d02cef2df3",
     "showTitle": false,
     "tableResultSettingsMap": {},
     "title": ""
    }
   },
   "outputs": [
    {
     "output_type": "stream",
     "name": "stdout",
     "output_type": "stream",
     "text": [
      "+---+--------+-----+-------+\n| id|    nome|idade|salario|\n+---+--------+-----+-------+\n|  2|   Maria|   28| 6200.0|\n|  3|   Pedro|   35| 7100.0|\n|  4|     Ana|   40| 8800.0|\n|  6|   Carla|   32| 5400.0|\n|  8|Fernanda|   37| 7600.0|\n|  9|   Tiago|   41| 8200.0|\n| 10| Juliana|   27| 5100.0|\n+---+--------+-----+-------+\n\n"
     ]
    }
   ],
   "source": [
    "df.filter(col(\"salario\") > 5000.0).show()"
   ]
  },
  {
   "cell_type": "code",
   "execution_count": 0,
   "metadata": {
    "application/vnd.databricks.v1+cell": {
     "cellMetadata": {
      "byteLimit": 2048000,
      "rowLimit": 10000
     },
     "inputWidgets": {},
     "nuid": "5990ddaa-cfec-495a-a41f-075b34b8f541",
     "showTitle": false,
     "tableResultSettingsMap": {},
     "title": ""
    }
   },
   "outputs": [
    {
     "output_type": "stream",
     "name": "stdout",
     "output_type": "stream",
     "text": [
      "+-----+----------+-------------+\n|idade|quantidade|media_salario|\n+-----+----------+-------------+\n|   30|         1|       5000.0|\n|   28|         1|       6200.0|\n|   35|         1|       7100.0|\n|   40|         1|       8800.0|\n|   25|         1|       4500.0|\n|   32|         1|       5400.0|\n|   29|         1|       4900.0|\n|   37|         1|       7600.0|\n|   27|         1|       5100.0|\n|   41|         1|       8200.0|\n+-----+----------+-------------+\n\n"
     ]
    }
   ],
   "source": [
    "df.groupBy(\"idade\")\\\n",
    ".agg(\n",
    "    count(\"id\").alias(\"quantidade\"),\n",
    "    avg(\"salario\").alias(\"media_salario\")\n",
    "    ).show()"
   ]
  },
  {
   "cell_type": "code",
   "execution_count": 0,
   "metadata": {
    "application/vnd.databricks.v1+cell": {
     "cellMetadata": {
      "byteLimit": 2048000,
      "rowLimit": 10000
     },
     "inputWidgets": {},
     "nuid": "c2502020-e0e3-49bb-93df-8f5f25e84f3d",
     "showTitle": false,
     "tableResultSettingsMap": {},
     "title": ""
    }
   },
   "outputs": [
    {
     "output_type": "stream",
     "name": "stdout",
     "output_type": "stream",
     "text": [
      "+---+--------+-----+-------+\n| id|    nome|idade|salario|\n+---+--------+-----+-------+\n|  4|     Ana|   40| 8800.0|\n|  9|   Tiago|   41| 8200.0|\n|  8|Fernanda|   37| 7600.0|\n|  3|   Pedro|   35| 7100.0|\n|  2|   Maria|   28| 6200.0|\n|  6|   Carla|   32| 5400.0|\n| 10| Juliana|   27| 5100.0|\n|  1|    João|   30| 5000.0|\n|  7|   Bruno|   29| 4900.0|\n|  5|   Lucas|   25| 4500.0|\n+---+--------+-----+-------+\n\n"
     ]
    }
   ],
   "source": [
    "df.orderBy(desc(\"salario\")).show()"
   ]
  },
  {
   "cell_type": "code",
   "execution_count": 0,
   "metadata": {
    "application/vnd.databricks.v1+cell": {
     "cellMetadata": {
      "byteLimit": 2048000,
      "rowLimit": 10000
     },
     "inputWidgets": {},
     "nuid": "423ba530-165b-42ec-b3da-17b32d32d716",
     "showTitle": false,
     "tableResultSettingsMap": {},
     "title": ""
    }
   },
   "outputs": [
    {
     "output_type": "stream",
     "name": "stdout",
     "output_type": "stream",
     "text": [
      "+--------+-------+\n|    nome|salario|\n+--------+-------+\n|    João| 5000.0|\n|   Maria| 6200.0|\n|   Pedro| 7100.0|\n|     Ana| 8800.0|\n|   Lucas| 4500.0|\n|   Carla| 5400.0|\n|   Bruno| 4900.0|\n|Fernanda| 7600.0|\n|   Tiago| 8200.0|\n| Juliana| 5100.0|\n+--------+-------+\n\n"
     ]
    }
   ],
   "source": [
    "df.select(\"nome\", \"salario\").show()"
   ]
  }
 ],
 "metadata": {
  "application/vnd.databricks.v1+notebook": {
   "computePreferences": null,
   "dashboards": [],
   "environmentMetadata": {
    "base_environment": "",
    "environment_version": "1"
   },
   "inputWidgetPreferences": null,
   "language": "python",
   "notebookMetadata": {
    "pythonIndentUnit": 4
   },
   "notebookName": "PySpark Basic Operations",
   "widgets": {}
  }
 },
 "nbformat": 4,
 "nbformat_minor": 0
}